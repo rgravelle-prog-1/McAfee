{
 "cells": [
  {
   "cell_type": "code",
   "execution_count": 1,
   "id": "01a481c6-c51c-4b06-9323-e61e530f2483",
   "metadata": {},
   "outputs": [
    {
     "name": "stdout",
     "output_type": "stream",
     "text": [
      "Requirement already satisfied: pandas in c:\\users\\belgr\\appdata\\roaming\\python\\python38\\site-packages (2.0.3)\n",
      "Requirement already satisfied: python-dateutil>=2.8.2 in c:\\users\\belgr\\anaconda3\\envs\\mcafee\\lib\\site-packages (from pandas) (2.8.2)\n",
      "Requirement already satisfied: pytz>=2020.1 in c:\\users\\belgr\\anaconda3\\envs\\mcafee\\lib\\site-packages (from pandas) (2024.1)\n",
      "Requirement already satisfied: tzdata>=2022.1 in c:\\users\\belgr\\anaconda3\\envs\\mcafee\\lib\\site-packages (from pandas) (2023.3)\n",
      "Requirement already satisfied: numpy>=1.20.3 in c:\\users\\belgr\\anaconda3\\envs\\mcafee\\lib\\site-packages (from pandas) (1.24.3)\n",
      "Requirement already satisfied: six>=1.5 in c:\\users\\belgr\\anaconda3\\envs\\mcafee\\lib\\site-packages (from python-dateutil>=2.8.2->pandas) (1.16.0)\n"
     ]
    }
   ],
   "source": [
    "!pip install pandas"
   ]
  },
  {
   "cell_type": "code",
   "execution_count": 11,
   "id": "febcbb58-8d65-4c44-b97f-e98a932265c5",
   "metadata": {},
   "outputs": [],
   "source": [
    "# Import Pnadas\n",
    "# Load the files stored in the Data folder by defining them and then loading them\n",
    "\n",
    "import pandas as pd\n",
    "\n",
    "# Define paths for train, validation, and test CSV files\n",
    "train_file = './Data/train.csv'\n",
    "valid_file = './Data/valid.csv'\n",
    "test_file = './Data/test.csv'\n",
    "\n",
    "# Load the data into pandas DataFrames\n",
    "train_df = pd.read_csv(train_file)\n",
    "valid_df = pd.read_csv(valid_file)\n",
    "test_df = pd.read_csv(test_file)\n"
   ]
  },
  {
   "cell_type": "code",
   "execution_count": 12,
   "id": "93079b45-7ed4-475e-b99c-3ae6b12b7ebb",
   "metadata": {},
   "outputs": [],
   "source": [
    "#Preprocess the csv file text\n",
    "from nltk.corpus import stopwords\n",
    "from nltk.stem import WordNetLemmatizer\n",
    "import re\n",
    "\n",
    "# Function to clean and preprocess text\n",
    "def preprocess_text(text):\n",
    "    text = re.sub(r'[^a-zA-Z]', ' ', text)  # Remove non-alphabetic characters\n",
    "    text = text.lower().split()  # Convert to lowercase and tokenize\n",
    "    stops = set(stopwords.words(\"english\"))  # Load stop words\n",
    "    text = [word for word in text if word not in stops]  # Remove stop words\n",
    "    lemmatizer = WordNetLemmatizer()  # Initialize lemmatizer\n",
    "    text = [lemmatizer.lemmatize(word) for word in text]  # Lemmatize words\n",
    "    return ' '.join(text)\n",
    "\n",
    "# Apply preprocessing to the 'statement' column instead of 'text'\n",
    "train_df['cleaned_text'] = train_df['statement'].apply(preprocess_text)\n",
    "valid_df['cleaned_text'] = valid_df['statement'].apply(preprocess_text)\n",
    "test_df['cleaned_text'] = test_df['statement'].apply(preprocess_text)\n",
    "\n"
   ]
  },
  {
   "cell_type": "code",
   "execution_count": 13,
   "id": "bf9596ae-40cd-419e-81f4-71aa77a1ec20",
   "metadata": {},
   "outputs": [],
   "source": [
    "# Feature Extraction\n",
    "from sklearn.feature_extraction.text import TfidfVectorizer\n",
    "\n",
    "# Create a TF-IDF Vectorizer\n",
    "vectorizer = TfidfVectorizer(max_features=5000)\n",
    "\n",
    "# Transform the cleaned text into TF-IDF features\n",
    "X_train = vectorizer.fit_transform(train_df['cleaned_text']).toarray()\n",
    "X_valid = vectorizer.transform(valid_df['cleaned_text']).toarray()\n",
    "X_test = vectorizer.transform(test_df['cleaned_text']).toarray()\n",
    "\n",
    "# Assuming binary labels (0: disinformation, 1: truth), map the labels\n",
    "y_train = train_df['label'].map({'truth': 1, 'disinformation': 0})\n",
    "y_valid = valid_df['label'].map({'truth': 1, 'disinformation': 0})\n",
    "y_test = test_df['label'].map({'truth': 1, 'disinformation': 0})\n"
   ]
  },
  {
   "cell_type": "code",
   "execution_count": 21,
   "id": "5c4fe438-00eb-4af1-995c-f8e785d2fc96",
   "metadata": {},
   "outputs": [
    {
     "name": "stdout",
     "output_type": "stream",
     "text": [
      "Validation Accuracy: 0.674793208532869\n",
      "Classification Report on Validation Data:\n",
      "               precision    recall  f1-score   support\n",
      "\n",
      "           0       0.63      0.57      0.60       972\n",
      "           1       0.71      0.75      0.73      1325\n",
      "\n",
      "    accuracy                           0.67      2297\n",
      "   macro avg       0.67      0.66      0.66      2297\n",
      "weighted avg       0.67      0.67      0.67      2297\n",
      "\n"
     ]
    }
   ],
   "source": [
    "from sklearn.linear_model import LogisticRegression\n",
    "from sklearn.metrics import accuracy_score, classification_report\n",
    "\n",
    "# Step 1: Map the numeric labels to binary classes\n",
    "y_train = train_df['label'].map({0: 1, 1: 1, 2: 1, 3: 0, 4: 0, 5: 0})\n",
    "y_valid = valid_df['label'].map({0: 1, 1: 1, 2: 1, 3: 0, 4: 0, 5: 0})\n",
    "y_test = test_df['label'].map({0: 1, 1: 1, 2: 1, 3: 0, 4: 0, 5: 0})\n",
    "\n",
    "# Step 2: Train the model\n",
    "model = LogisticRegression()\n",
    "model.fit(X_train, y_train)\n",
    "\n",
    "# Step 3: Evaluate on the validation set\n",
    "y_valid_pred = model.predict(X_valid)\n",
    "print(f\"Validation Accuracy: {accuracy_score(y_valid, y_valid_pred)}\")\n",
    "print(f\"Classification Report on Validation Data:\\n {classification_report(y_valid, y_valid_pred)}\")\n"
   ]
  },
  {
   "cell_type": "code",
   "execution_count": 22,
   "id": "6d11f716-12cc-4938-8d01-749ed886f2ac",
   "metadata": {},
   "outputs": [
    {
     "name": "stdout",
     "output_type": "stream",
     "text": [
      "Test Accuracy: 0.6794425087108014\n",
      "Classification Report on Test Data:\n",
      "               precision    recall  f1-score   support\n",
      "\n",
      "           0       0.64      0.56      0.60       973\n",
      "           1       0.70      0.77      0.73      1323\n",
      "\n",
      "    accuracy                           0.68      2296\n",
      "   macro avg       0.67      0.66      0.67      2296\n",
      "weighted avg       0.68      0.68      0.68      2296\n",
      "\n"
     ]
    }
   ],
   "source": [
    "# Predict on the test set\n",
    "y_test_pred = model.predict(X_test)\n",
    "\n",
    "# Evaluate on the test set\n",
    "print(f\"Test Accuracy: {accuracy_score(y_test, y_test_pred)}\")\n",
    "print(f\"Classification Report on Test Data:\\n {classification_report(y_test, y_test_pred)}\")\n"
   ]
  },
  {
   "cell_type": "code",
   "execution_count": null,
   "id": "54ccca42-1eb3-4cc7-863e-90ec3dcb2c1a",
   "metadata": {},
   "outputs": [],
   "source": []
  }
 ],
 "metadata": {
  "kernelspec": {
   "display_name": "Python 3 (ipykernel)",
   "language": "python",
   "name": "python3"
  },
  "language_info": {
   "codemirror_mode": {
    "name": "ipython",
    "version": 3
   },
   "file_extension": ".py",
   "mimetype": "text/x-python",
   "name": "python",
   "nbconvert_exporter": "python",
   "pygments_lexer": "ipython3",
   "version": "3.8.18"
  }
 },
 "nbformat": 4,
 "nbformat_minor": 5
}
